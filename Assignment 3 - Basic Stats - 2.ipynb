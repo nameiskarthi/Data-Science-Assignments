{
 "cells": [
  {
   "cell_type": "code",
   "execution_count": 1,
   "id": "b6ed2520",
   "metadata": {},
   "outputs": [],
   "source": [
    "import numpy as np\n",
    "from scipy import stats"
   ]
  },
  {
   "cell_type": "code",
   "execution_count": 2,
   "id": "46909c94",
   "metadata": {},
   "outputs": [],
   "source": [
    "data = np.array([1.13, 1.55, 1.43, 0.92, 1.25, 1.36, 1.32, 0.85, 1.07, 1.48, 1.20, 1.33, 1.18, 1.22, 1.29])"
   ]
  },
  {
   "cell_type": "code",
   "execution_count": 3,
   "id": "30e76ce9",
   "metadata": {},
   "outputs": [
    {
     "data": {
      "text/plain": [
       "1.2386666666666666"
      ]
     },
     "execution_count": 3,
     "metadata": {},
     "output_type": "execute_result"
    }
   ],
   "source": [
    "# Calculate the sample mean\n",
    "sample_mean=np.mean(data)\n",
    "sample_mean"
   ]
  },
  {
   "cell_type": "code",
   "execution_count": 4,
   "id": "cf094e32",
   "metadata": {},
   "outputs": [
    {
     "data": {
      "text/plain": [
       "0.19316412956959936"
      ]
     },
     "execution_count": 4,
     "metadata": {},
     "output_type": "execute_result"
    }
   ],
   "source": [
    "# Calculate the sample standard deviation\n",
    "sample_std = np.std(data, ddof=1)\n",
    "sample_std"
   ]
  },
  {
   "cell_type": "code",
   "execution_count": 5,
   "id": "a7372785",
   "metadata": {},
   "outputs": [
    {
     "data": {
      "text/plain": [
       "15"
      ]
     },
     "execution_count": 5,
     "metadata": {},
     "output_type": "execute_result"
    }
   ],
   "source": [
    "n = len(data)\n",
    "n"
   ]
  },
  {
   "cell_type": "markdown",
   "id": "00677e10",
   "metadata": {},
   "source": [
    "### A) 99% Confidence Interval Using Sample Standard Deviation"
   ]
  },
  {
   "cell_type": "code",
   "execution_count": 6,
   "id": "fe95bf1a",
   "metadata": {},
   "outputs": [
    {
     "data": {
      "text/plain": [
       "2.97684273411266"
      ]
     },
     "execution_count": 6,
     "metadata": {},
     "output_type": "execute_result"
    }
   ],
   "source": [
    "# Determine the t-score for 99% confidence\n",
    "# Since the population standard deviation is unknown and the sample size is small, use the t-distribution.\n",
    "# For 99% confidence with 14 degrees of freedom(n-1),t-value is around 2.977\n",
    "\n",
    "t_score = stats.t.ppf(0.995, df=n-1)\n",
    "t_score"
   ]
  },
  {
   "cell_type": "code",
   "execution_count": 7,
   "id": "d4a27d9a",
   "metadata": {},
   "outputs": [
    {
     "data": {
      "text/plain": [
       "0.1484693282152996"
      ]
     },
     "execution_count": 7,
     "metadata": {},
     "output_type": "execute_result"
    }
   ],
   "source": [
    "# Calculate the margin of error\n",
    "margin_of_error_t = t_score * (sample_std / np.sqrt(n))\n",
    "margin_of_error_t"
   ]
  },
  {
   "cell_type": "code",
   "execution_count": 8,
   "id": "0cecd540",
   "metadata": {},
   "outputs": [
    {
     "data": {
      "text/plain": [
       "(1.090197338451367, 1.3871359948819662)"
      ]
     },
     "execution_count": 8,
     "metadata": {},
     "output_type": "execute_result"
    }
   ],
   "source": [
    "# Construct the confidence interval\n",
    "confidence_interval_t = (sample_mean - margin_of_error_t, sample_mean + margin_of_error_t)\n",
    "confidence_interval_t"
   ]
  },
  {
   "cell_type": "markdown",
   "id": "917a90fd",
   "metadata": {},
   "source": [
    "##### Rationale for Using the t-distribution:"
   ]
  },
  {
   "cell_type": "markdown",
   "id": "dee8c9c5",
   "metadata": {},
   "source": [
    "The t-distribution is appropriate for small sample sizes and when the population standard deviation is unknown. It accounts for the increased variability and uncertainty in the estimate."
   ]
  },
  {
   "cell_type": "markdown",
   "id": "566bcaf9",
   "metadata": {},
   "source": [
    "### B) 99% Confidence Interval Using Known Population Standard Deviation"
   ]
  },
  {
   "cell_type": "code",
   "execution_count": 9,
   "id": "fbe221c3",
   "metadata": {},
   "outputs": [],
   "source": [
    "# Using the Known Population Standard Deviation = 0.2\n",
    "\n",
    "population_std = 0.2"
   ]
  },
  {
   "cell_type": "code",
   "execution_count": 10,
   "id": "aa558ccd",
   "metadata": {},
   "outputs": [
    {
     "data": {
      "text/plain": [
       "2.5758293035489004"
      ]
     },
     "execution_count": 10,
     "metadata": {},
     "output_type": "execute_result"
    }
   ],
   "source": [
    "# Determine the z-score for 99% confidence\n",
    "# Using the standard normal distribution to find the z-score for 99% confidence (around 2.576).\n",
    "\n",
    "z_score = stats.norm.ppf(0.995)\n",
    "z_score"
   ]
  },
  {
   "cell_type": "code",
   "execution_count": 11,
   "id": "6fddbe17",
   "metadata": {},
   "outputs": [
    {
     "data": {
      "text/plain": [
       "0.13301525327090588"
      ]
     },
     "execution_count": 11,
     "metadata": {},
     "output_type": "execute_result"
    }
   ],
   "source": [
    "# Calculate the margin of error\n",
    "margin_of_error_z = z_score * (population_std / np.sqrt(n))\n",
    "margin_of_error_z"
   ]
  },
  {
   "cell_type": "code",
   "execution_count": 12,
   "id": "66b7c41d",
   "metadata": {},
   "outputs": [
    {
     "data": {
      "text/plain": [
       "(1.1056514133957607, 1.3716819199375725)"
      ]
     },
     "execution_count": 12,
     "metadata": {},
     "output_type": "execute_result"
    }
   ],
   "source": [
    "# Construct the confidence interval\n",
    "confidence_interval_z = (sample_mean - margin_of_error_z, sample_mean + margin_of_error_z)\n",
    "confidence_interval_z"
   ]
  },
  {
   "cell_type": "markdown",
   "id": "e60d193a",
   "metadata": {},
   "source": [
    "#### Rationale for Using the z-distribution:"
   ]
  },
  {
   "cell_type": "markdown",
   "id": "d36b8a01",
   "metadata": {},
   "source": [
    "When the population standard deviation is known, the z-distribution provides a precise measure of confidence intervals, even with small sample sizes."
   ]
  },
  {
   "cell_type": "code",
   "execution_count": 13,
   "id": "8cbfc83c",
   "metadata": {},
   "outputs": [
    {
     "name": "stdout",
     "output_type": "stream",
     "text": [
      "(1.090197338451367, 1.3871359948819662)\n",
      "(1.1056514133957607, 1.3716819199375725)\n"
     ]
    }
   ],
   "source": [
    "print(confidence_interval_t)\n",
    "print(confidence_interval_z)"
   ]
  },
  {
   "cell_type": "code",
   "execution_count": null,
   "id": "b6199ff4",
   "metadata": {},
   "outputs": [],
   "source": []
  }
 ],
 "metadata": {
  "kernelspec": {
   "display_name": "Python 3 (ipykernel)",
   "language": "python",
   "name": "python3"
  },
  "language_info": {
   "codemirror_mode": {
    "name": "ipython",
    "version": 3
   },
   "file_extension": ".py",
   "mimetype": "text/x-python",
   "name": "python",
   "nbconvert_exporter": "python",
   "pygments_lexer": "ipython3",
   "version": "3.11.7"
  }
 },
 "nbformat": 4,
 "nbformat_minor": 5
}
